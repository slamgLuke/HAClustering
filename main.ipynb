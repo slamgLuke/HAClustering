{
 "cells": [
  {
   "cell_type": "markdown",
   "id": "49d30fd3-f38e-4ae6-979f-624914cfddb9",
   "metadata": {},
   "source": [
    "# Human Activity Recognition using Clustering\n",
    "\n",
    "\n",
    "**Integrantes:**\n",
    "- Lucas Carranza\n",
    "- Guillermo Sánchez\n",
    "- David Herencia\n",
    "- José Osnayo"
   ]
  },
  {
   "cell_type": "code",
   "execution_count": 4,
   "id": "193a2289-bf96-41ea-b46b-33f84d0536fc",
   "metadata": {},
   "outputs": [],
   "source": [
    "import numpy as np\n",
    "import pandas as pd"
   ]
  },
  {
   "cell_type": "markdown",
   "id": "9e60c8d2-6461-4143-b659-b549b1282511",
   "metadata": {},
   "source": [
    "## Dataset Analysis"
   ]
  },
  {
   "cell_type": "code",
   "execution_count": 7,
   "id": "62747495-3d24-4d56-b541-84585d9facc0",
   "metadata": {},
   "outputs": [
    {
     "name": "stdout",
     "output_type": "stream",
     "text": [
      "Hola mundo\n"
     ]
    }
   ],
   "source": [
    "print(\"Hola mundo\")"
   ]
  },
  {
   "cell_type": "markdown",
   "id": "2e4b3e13-2ca8-4e44-aeff-55d5909a1099",
   "metadata": {},
   "source": [
    "## Reducción de Dimensionalidad"
   ]
  },
  {
   "cell_type": "code",
   "execution_count": null,
   "id": "45a93511-25ab-4368-b0fa-f9a7b354e763",
   "metadata": {},
   "outputs": [],
   "source": []
  },
  {
   "cell_type": "markdown",
   "id": "124ad858-39cf-4610-ac64-19200e0ce40f",
   "metadata": {},
   "source": [
    "## Implementación\n",
    "\n",
    "La implementación de los Modelos de Clustering a usar"
   ]
  },
  {
   "cell_type": "markdown",
   "id": "8373504f-9fc1-48b9-b95d-ed8c780f3388",
   "metadata": {},
   "source": [
    "### Modelo 1"
   ]
  },
  {
   "cell_type": "code",
   "execution_count": null,
   "id": "a9e8e4cb-97ca-4484-8415-d7bced6e5ae6",
   "metadata": {},
   "outputs": [],
   "source": []
  },
  {
   "cell_type": "markdown",
   "id": "6de83c05-ae65-462b-b8c1-b5f6417f265b",
   "metadata": {},
   "source": [
    "### Modelo 2"
   ]
  },
  {
   "cell_type": "code",
   "execution_count": null,
   "id": "f11b4f97-c1d6-447f-95bd-a77f86117290",
   "metadata": {},
   "outputs": [],
   "source": []
  },
  {
   "cell_type": "markdown",
   "id": "e192faae-aaa1-4132-ba62-6de2d046725d",
   "metadata": {},
   "source": [
    "## Submission\n",
    "\n",
    "Archivo .csv para la competencia de Kaggle: https://www.kaggle.com/competitions/project-3-clustering"
   ]
  },
  {
   "cell_type": "code",
   "execution_count": null,
   "id": "5abd5298-1d9d-496d-8cf1-dbc06bfb0745",
   "metadata": {},
   "outputs": [],
   "source": []
  }
 ],
 "metadata": {
  "kernelspec": {
   "display_name": "Python 3 (ipykernel)",
   "language": "python",
   "name": "python3"
  },
  "language_info": {
   "codemirror_mode": {
    "name": "ipython",
    "version": 3
   },
   "file_extension": ".py",
   "mimetype": "text/x-python",
   "name": "python",
   "nbconvert_exporter": "python",
   "pygments_lexer": "ipython3",
   "version": "3.12.3"
  }
 },
 "nbformat": 4,
 "nbformat_minor": 5
}
